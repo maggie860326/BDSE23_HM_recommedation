{
 "cells": [
  {
   "cell_type": "code",
   "execution_count": 1,
   "metadata": {},
   "outputs": [],
   "source": [
    "import numpy as np # linear algebra\n",
    "import pandas as pd\n",
    "# from ImplicitALS import ImplicitALS as als"
   ]
  },
  {
   "cell_type": "code",
   "execution_count": null,
   "metadata": {},
   "outputs": [],
   "source": [
    "# model = als()\n",
    "customers = pd.read_csv('../data/customers.csv')\n"
   ]
  },
  {
   "cell_type": "code",
   "execution_count": 2,
   "metadata": {},
   "outputs": [],
   "source": [
    "articles = pd.read_csv('../data/articles.csv')\n"
   ]
  },
  {
   "cell_type": "code",
   "execution_count": null,
   "metadata": {},
   "outputs": [],
   "source": [
    "transactions = pd.read_csv('../data/transactions_train.csv')"
   ]
  },
  {
   "cell_type": "code",
   "execution_count": null,
   "metadata": {},
   "outputs": [],
   "source": [
    "# count = pd.read_parquet('../data/new-art-count.parquet')\n",
    "# count"
   ]
  },
  {
   "cell_type": "code",
   "execution_count": null,
   "metadata": {},
   "outputs": [],
   "source": [
    "# customers\n",
    "# articles\n",
    "transactions"
   ]
  },
  {
   "cell_type": "code",
   "execution_count": null,
   "metadata": {},
   "outputs": [],
   "source": [
    "# df = transactions.groupby(['article_id','customer_id']).count()\n",
    "# df.rename(columns={\"t_dat\":\"count\"},inplace=True)\n"
   ]
  },
  {
   "cell_type": "code",
   "execution_count": null,
   "metadata": {},
   "outputs": [],
   "source": [
    "# df = df[\"count\"].reset_index()\n",
    "# df"
   ]
  },
  {
   "cell_type": "code",
   "execution_count": null,
   "metadata": {},
   "outputs": [],
   "source": [
    "# atransactions = pd.merge(transactions,df )"
   ]
  },
  {
   "cell_type": "code",
   "execution_count": 3,
   "metadata": {},
   "outputs": [],
   "source": [
    "from sklearn.preprocessing import LabelEncoder\n",
    "ALL_ITEMS = articles['article_id'].unique().tolist()\n",
    "leItem = LabelEncoder().fit(ALL_ITEMS)"
   ]
  },
  {
   "cell_type": "code",
   "execution_count": null,
   "metadata": {},
   "outputs": [],
   "source": [
    "from sklearn.preprocessing import LabelEncoder\n",
    "\n",
    "ALL_USERS = customers['customer_id'].unique().tolist()\n",
    "ALL_ITEMS = articles['article_id'].unique().tolist()\n",
    "\n",
    "leUser = LabelEncoder().fit(ALL_USERS)\n",
    "transactions['user_id'] = leUser.transform(transactions['customer_id'])\n",
    "leItem = LabelEncoder().fit(ALL_ITEMS)\n",
    "transactions['item_id'] = leItem.transform(transactions['article_id'])\n",
    "transactions"
   ]
  },
  {
   "cell_type": "code",
   "execution_count": null,
   "metadata": {},
   "outputs": [],
   "source": [
    "from scipy.sparse import coo_matrix\n",
    "\n",
    "col = transactions['user_id'].values\n",
    "row = transactions['item_id'].values\n",
    "one = np.ones(transactions.shape[0])\n",
    "# one = df[\"count\"].to_xarray\n",
    "# one = atransactions['count'].values\n",
    "\n",
    "coo = coo_matrix((one, (row, col)), shape=(len(ALL_ITEMS), len(ALL_USERS)))"
   ]
  },
  {
   "cell_type": "code",
   "execution_count": null,
   "metadata": {},
   "outputs": [],
   "source": [
    "# coo\n",
    "print( coo )"
   ]
  },
  {
   "cell_type": "code",
   "execution_count": null,
   "metadata": {},
   "outputs": [],
   "source": [
    "csr = coo.tocsr()\n",
    "csr"
   ]
  },
  {
   "cell_type": "code",
   "execution_count": null,
   "metadata": {},
   "outputs": [],
   "source": [
    "csr.toarray"
   ]
  },
  {
   "cell_type": "code",
   "execution_count": null,
   "metadata": {},
   "outputs": [],
   "source": [
    "print(csr)"
   ]
  },
  {
   "cell_type": "code",
   "execution_count": 5,
   "metadata": {},
   "outputs": [],
   "source": [
    "import scipy.sparse\n",
    "# scipy.sparse.save_npz('../data/sparse_matrix.npz', csr)\n",
    "sparse_matrix = scipy.sparse.load_npz('../data/sparse_matrix.npz') ###### CSR  #####"
   ]
  },
  {
   "cell_type": "code",
   "execution_count": null,
   "metadata": {},
   "outputs": [],
   "source": [
    "from scipy.sparse import csr_matrix\n",
    "from sklearn.neighbors import NearestNeighbors\n",
    "from sklearn.preprocessing import LabelEncoder"
   ]
  },
  {
   "cell_type": "code",
   "execution_count": null,
   "metadata": {},
   "outputs": [],
   "source": [
    "model_knn = NearestNeighbors(metric = 'cosine', algorithm = 'brute')\n",
    "# model_knn.fit(csr)\n",
    "model_knn.fit(sparse_matrix)"
   ]
  },
  {
   "cell_type": "code",
   "execution_count": 6,
   "metadata": {},
   "outputs": [],
   "source": [
    "from pickle import dump, load \n",
    "file = \"../data/newKnn.pickle\"\n",
    "# dump(model_knn,open(file,\"wb\"))\n",
    "K = load(open(file,\"rb\"))"
   ]
  },
  {
   "cell_type": "code",
   "execution_count": 7,
   "metadata": {},
   "outputs": [],
   "source": [
    "query_artcile = 519936007 # input article ID\n",
    "# query_artcile = 891322004\n",
    "# leItem.inverse_transform([query_index])\n",
    "index = leItem.transform([query_artcile])\n",
    "# print(\"Choosen article is: \",article_table.index[query_index])"
   ]
  },
  {
   "cell_type": "code",
   "execution_count": null,
   "metadata": {},
   "outputs": [],
   "source": [
    "# csr[:, 298].toarray()"
   ]
  },
  {
   "cell_type": "code",
   "execution_count": 8,
   "metadata": {},
   "outputs": [],
   "source": [
    "# distances, indices = model_knn.kneighbors(csr[index,:].toarray().reshape(1,-1), n_neighbors = 6)\n",
    "# distances, indices = K.kneighbors(csr[index,:].toarray().reshape(1,-1), n_neighbors = 6)\n",
    "distances, indices = K.kneighbors(sparse_matrix[index,:].toarray().reshape(1,-1), n_neighbors = 6)"
   ]
  },
  {
   "cell_type": "code",
   "execution_count": 9,
   "metadata": {},
   "outputs": [
    {
     "name": "stdout",
     "output_type": "stream",
     "text": [
      "0: [881786003], with distance of 0.7278344730240913\n",
      "1: [745166002], with distance of 0.6797436923898257\n",
      "2: [617923003], with distance of 0.6666666666666665\n",
      "3: [860365003], with distance of 0.6666666666666665\n",
      "4: [686318007], with distance of 0.6348516283298892\n"
     ]
    }
   ],
   "source": [
    "article = []\n",
    "distance = []\n",
    "\n",
    "for i in range(0, len(distances.flatten())):\n",
    "    if i != 0:\n",
    "        # article.append(indices.flatten()[i])\n",
    "        article.append(leItem.inverse_transform([indices.flatten()[i]]))\n",
    "        distance.append(distances.flatten()[i]) \n",
    "           \n",
    "\n",
    "m=pd.Series(article,name='article')\n",
    "d=pd.Series(distance,name='distance')\n",
    "recommend = pd.concat([m,d], axis=1)\n",
    "recommend = recommend.sort_values('distance',ascending=False)\n",
    "\n",
    "# print('Recommendations for {0}:\\n'.format(article_table.index[query_index]))\n",
    "for i in range(0,recommend.shape[0]):\n",
    "    print('{0}: {1}, with distance of {2}'.format(i, recommend[\"article\"].iloc[i], recommend[\"distance\"].iloc[i]))"
   ]
  },
  {
   "cell_type": "code",
   "execution_count": null,
   "metadata": {},
   "outputs": [],
   "source": [
    "x = np.array([0,3,1,0])\n",
    "y = np.array([0,3,1,0])\n",
    "z = np.array([1,1,1,1])\n",
    "coo_matrix((z , (x,y)),shape=(4,4)).toarray()\n",
    "\n"
   ]
  },
  {
   "cell_type": "code",
   "execution_count": null,
   "metadata": {},
   "outputs": [],
   "source": []
  }
 ],
 "metadata": {
  "interpreter": {
   "hash": "d22062a349565d47932e26840da5411063d75b4bbbcc67467bb4b0a2b9470436"
  },
  "kernelspec": {
   "display_name": "Python 3.9.10 64-bit",
   "language": "python",
   "name": "python3"
  },
  "language_info": {
   "codemirror_mode": {
    "name": "ipython",
    "version": 3
   },
   "file_extension": ".py",
   "mimetype": "text/x-python",
   "name": "python",
   "nbconvert_exporter": "python",
   "pygments_lexer": "ipython3",
   "version": "3.9.10"
  },
  "orig_nbformat": 4
 },
 "nbformat": 4,
 "nbformat_minor": 2
}
